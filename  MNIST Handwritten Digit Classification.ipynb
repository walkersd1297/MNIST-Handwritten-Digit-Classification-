{
 "cells": [
  {
   "cell_type": "code",
   "execution_count": 1,
   "id": "4dc4cc71",
   "metadata": {},
   "outputs": [],
   "source": [
    "#importing the libraries\n",
    "from keras.models import Sequential\n",
    "from keras.layers import Dense, Conv2D, Flatten, MaxPool2D\n",
    "from keras.datasets import mnist\n",
    "from keras.utils import to_categorical\n",
    "import numpy as np\n",
    "import matplotlib.pyplot as plt"
   ]
  },
  {
   "cell_type": "code",
   "execution_count": 2,
   "id": "052bc1bb",
   "metadata": {},
   "outputs": [],
   "source": [
    "#Load the data and split it into train and test \n",
    "(X_train, y_train), (X_test, y_test) = mnist.load_data()"
   ]
  },
  {
   "cell_type": "code",
   "execution_count": 3,
   "id": "20a84ed1",
   "metadata": {},
   "outputs": [
    {
     "name": "stdout",
     "output_type": "stream",
     "text": [
      "(60000, 28, 28)\n",
      "(10000, 28, 28)\n"
     ]
    }
   ],
   "source": [
    "#Get the image shape\n",
    "print(X_train.shape)\n",
    "print(X_test.shape)"
   ]
  },
  {
   "cell_type": "code",
   "execution_count": 4,
   "id": "2d600a84",
   "metadata": {},
   "outputs": [
    {
     "data": {
      "text/plain": [
       "<matplotlib.image.AxesImage at 0x1b290cc51f0>"
      ]
     },
     "execution_count": 4,
     "metadata": {},
     "output_type": "execute_result"
    },
    {
     "data": {
      "image/png": "[encoded data removed]",
      "text/plain": [
       "<Figure size 432x288 with 1 Axes>"
      ]
     },
     "metadata": {
      "needs_background": "light"
     },
     "output_type": "display_data"
    }
   ],
   "source": [
    "plt.imshow(X_train[2])"
   ]
  },
  {
   "cell_type": "code",
   "execution_count": 5,
   "id": "61e375c2",
   "metadata": {},
   "outputs": [
    {
     "name": "stdout",
     "output_type": "stream",
     "text": [
      "[0. 0. 0. 0. 0. 1. 0. 0. 0. 0.]\n"
     ]
    }
   ],
   "source": [
    "# Reshaping the data to fit the model\n",
    "X_train = X_train.reshape(60000, 28, 28, 1)\n",
    "X_test = X_test.reshape(10000, 28, 28, 1)\n",
    "\n",
    "# One-Hot Encoding:\n",
    "y_train_one_hot = to_categorical(y_train)\n",
    "y_test_one_hot = to_categorical(y_test)\n",
    "\n",
    "# Print the new label\n",
    "print(y_train_one_hot[0])"
   ]
  },
  {
   "cell_type": "code",
   "execution_count": 6,
   "id": "c5a2be3d",
   "metadata": {},
   "outputs": [],
   "source": [
    "# Build the CNN model\n",
    "model = Sequential()\n",
    "# Add model layers\n",
    "model.add(Conv2D(64, kernel_size=3, activation = 'relu', input_shape=(28,28,1)))\n",
    "model.add(Conv2D(32, kernel_size=3, activation='relu'))\n",
    "model.add(MaxPool2D(pool_size=(2, 2), strides=None, padding='valid', data_format=None))\n",
    "model.add(Flatten())\n",
    "model.add(Dense(10,activation='softmax'))"
   ]
  },
  {
   "cell_type": "code",
   "execution_count": 7,
   "id": "af50a86d",
   "metadata": {},
   "outputs": [],
   "source": [
    "model.compile(optimizer='adam', loss='categorical_crossentropy', metrics=['accuracy'])"
   ]
  },
  {
   "cell_type": "code",
   "execution_count": 8,
   "id": "19e2baef",
   "metadata": {},
   "outputs": [
    {
     "name": "stdout",
     "output_type": "stream",
     "text": [
      "Epoch 1/10\n",
      "1875/1875 [==============================] - 79s 42ms/step - loss: 0.2368 - accuracy: 0.9482 - val_loss: 0.0753 - val_accuracy: 0.9744\n",
      "Epoch 2/10\n",
      "1875/1875 [==============================] - 79s 42ms/step - loss: 0.0720 - accuracy: 0.9780 - val_loss: 0.0797 - val_accuracy: 0.9744\n",
      "Epoch 3/10\n",
      "1875/1875 [==============================] - 68s 36ms/step - loss: 0.0524 - accuracy: 0.9838 - val_loss: 0.0706 - val_accuracy: 0.9803\n",
      "Epoch 4/10\n",
      "1875/1875 [==============================] - 69s 37ms/step - loss: 0.0411 - accuracy: 0.9875 - val_loss: 0.0576 - val_accuracy: 0.9840\n",
      "Epoch 5/10\n",
      "1875/1875 [==============================] - 72s 38ms/step - loss: 0.0361 - accuracy: 0.9886 - val_loss: 0.0603 - val_accuracy: 0.9859\n",
      "Epoch 6/10\n",
      "1875/1875 [==============================] - 72s 38ms/step - loss: 0.0298 - accuracy: 0.9907 - val_loss: 0.0632 - val_accuracy: 0.9848\n",
      "Epoch 7/10\n",
      "1875/1875 [==============================] - 122s 65ms/step - loss: 0.0264 - accuracy: 0.9915 - val_loss: 0.0860 - val_accuracy: 0.9818\n",
      "Epoch 8/10\n",
      "1875/1875 [==============================] - 108s 57ms/step - loss: 0.0213 - accuracy: 0.9936 - val_loss: 0.0926 - val_accuracy: 0.9824\n",
      "Epoch 9/10\n",
      "1875/1875 [==============================] - 73s 39ms/step - loss: 0.0205 - accuracy: 0.9937 - val_loss: 0.1000 - val_accuracy: 0.9836\n",
      "Epoch 10/10\n",
      "1875/1875 [==============================] - 73s 39ms/step - loss: 0.0176 - accuracy: 0.9948 - val_loss: 0.1030 - val_accuracy: 0.9841\n"
     ]
    }
   ],
   "source": [
    "#Train the model\n",
    "hist = model.fit(X_train,y_train_one_hot, validation_data=(X_test,y_test_one_hot), epochs=10)"
   ]
  }
 ],
 "metadata": {
  "kernelspec": {
   "display_name": "Python 3 (ipykernel)",
   "language": "python",
   "name": "python3"
  },
  "language_info": {
   "codemirror_mode": {
    "name": "ipython",
    "version": 3
   },
   "file_extension": ".py",
   "mimetype": "text/x-python",
   "name": "python",
   "nbconvert_exporter": "python",
   "pygments_lexer": "ipython3",
   "version": "3.9.12"
  }
 },
 "nbformat": 4,
 "nbformat_minor": 5
}
